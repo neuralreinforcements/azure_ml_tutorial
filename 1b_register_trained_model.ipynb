from azureml.core import Model

classification_model = Model.register(workspace=ws,
                       model_name='classification_model',
                       model_path='model.pkl', # local path
                       description='A classification model')


